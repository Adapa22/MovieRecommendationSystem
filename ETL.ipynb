{
 "cells": [
  {
   "attachments": {},
   "cell_type": "markdown",
   "metadata": {},
   "source": [
    "En este notebook encontrarán los pasos e instrucciones necesarias para para realizar el tratamiento de los datos."
   ]
  },
  {
   "cell_type": "code",
   "execution_count": 49,
   "metadata": {},
   "outputs": [],
   "source": [
    "# Importar librerías de python\n",
    "import pandas as pd\n",
    "import numpy as np"
   ]
  },
  {
   "attachments": {},
   "cell_type": "markdown",
   "metadata": {},
   "source": [
    "### Extracting data"
   ]
  },
  {
   "cell_type": "code",
   "execution_count": 50,
   "metadata": {},
   "outputs": [],
   "source": [
    "def check_dataframe(*dfs):\n",
    "    \"\"\"\n",
    "    Verifica si los DataFrames tienen la misma cantidad y nombre de columnas, y muestra la cantidad y nombres de las columnas.\n",
    "\n",
    "    Args:\n",
    "        *dfs: uno o más DataFrames\n",
    "\n",
    "    Returns:\n",
    "        bool: True si tienen las mismas columnas y cantidad, False si no.\n",
    "    \"\"\"\n",
    "    cols = None\n",
    "    for i, df in enumerate(dfs):\n",
    "        if cols is None:\n",
    "            cols = set(df.columns)\n",
    "            num_cols = len(cols)\n",
    "            print(f\"DataFrame {i+1} tiene {num_cols} columnas: {', '.join(cols)}\")\n",
    "        elif cols != set(df.columns):\n",
    "            print(f\"DataFrame {i+1} tiene {len(df.columns)} columnas diferentes: {', '.join(set(df.columns) - cols)}\")\n",
    "            return False\n",
    "    return True"
   ]
  },
  {
   "cell_type": "code",
   "execution_count": 51,
   "metadata": {},
   "outputs": [
    {
     "name": "stdout",
     "output_type": "stream",
     "text": [
      "DataFrame 1 tiene 12 columnas: listed_in, release_year, cast, title, country, date_added, duration, description, show_id, type, rating, director\n",
      "Los 4 DataFrames tienen las mismas columnas y cantidad\n"
     ]
    }
   ],
   "source": [
    "# crear los DataFrames (df_a, df_d, df_h, df_n)\n",
    "df_a = pd.read_csv(\"raw/amazon_prime_titles.csv\")\n",
    "df_d = pd.read_csv(\"raw/disney_plus_titles.csv\")\n",
    "df_h = pd.read_csv(\"raw/hulu_titles.csv\")\n",
    "df_n = pd.read_csv(\"raw/netflix_titles.csv\")\n",
    "\n",
    "if check_dataframe(df_a, df_d, df_h, df_n):\n",
    "    print(\"Los 4 DataFrames tienen las mismas columnas y cantidad\")\n",
    "else:\n",
    "    print(\"Los 4 DataFrames no tienen las mismas columnas y/o cantidad\")"
   ]
  },
  {
   "cell_type": "code",
   "execution_count": 52,
   "metadata": {},
   "outputs": [
    {
     "data": {
      "text/html": [
       "<div>\n",
       "<style scoped>\n",
       "    .dataframe tbody tr th:only-of-type {\n",
       "        vertical-align: middle;\n",
       "    }\n",
       "\n",
       "    .dataframe tbody tr th {\n",
       "        vertical-align: top;\n",
       "    }\n",
       "\n",
       "    .dataframe thead th {\n",
       "        text-align: right;\n",
       "    }\n",
       "</style>\n",
       "<table border=\"1\" class=\"dataframe\">\n",
       "  <thead>\n",
       "    <tr style=\"text-align: right;\">\n",
       "      <th></th>\n",
       "      <th>show_id</th>\n",
       "      <th>type</th>\n",
       "      <th>title</th>\n",
       "      <th>director</th>\n",
       "      <th>cast</th>\n",
       "      <th>country</th>\n",
       "      <th>date_added</th>\n",
       "      <th>release_year</th>\n",
       "      <th>rating</th>\n",
       "      <th>duration</th>\n",
       "      <th>listed_in</th>\n",
       "      <th>description</th>\n",
       "    </tr>\n",
       "  </thead>\n",
       "  <tbody>\n",
       "    <tr>\n",
       "      <th>0</th>\n",
       "      <td>s1</td>\n",
       "      <td>Movie</td>\n",
       "      <td>The Grand Seduction</td>\n",
       "      <td>Don McKellar</td>\n",
       "      <td>Brendan Gleeson, Taylor Kitsch, Gordon Pinsent</td>\n",
       "      <td>Canada</td>\n",
       "      <td>March 30, 2021</td>\n",
       "      <td>2014</td>\n",
       "      <td>NaN</td>\n",
       "      <td>113 min</td>\n",
       "      <td>Comedy, Drama</td>\n",
       "      <td>A small fishing village must procure a local d...</td>\n",
       "    </tr>\n",
       "    <tr>\n",
       "      <th>1</th>\n",
       "      <td>s2</td>\n",
       "      <td>Movie</td>\n",
       "      <td>Take Care Good Night</td>\n",
       "      <td>Girish Joshi</td>\n",
       "      <td>Mahesh Manjrekar, Abhay Mahajan, Sachin Khedekar</td>\n",
       "      <td>India</td>\n",
       "      <td>March 30, 2021</td>\n",
       "      <td>2018</td>\n",
       "      <td>13+</td>\n",
       "      <td>110 min</td>\n",
       "      <td>Drama, International</td>\n",
       "      <td>A Metro Family decides to fight a Cyber Crimin...</td>\n",
       "    </tr>\n",
       "  </tbody>\n",
       "</table>\n",
       "</div>"
      ],
      "text/plain": [
       "  show_id   type                 title      director  \\\n",
       "0      s1  Movie   The Grand Seduction  Don McKellar   \n",
       "1      s2  Movie  Take Care Good Night  Girish Joshi   \n",
       "\n",
       "                                               cast country      date_added  \\\n",
       "0    Brendan Gleeson, Taylor Kitsch, Gordon Pinsent  Canada  March 30, 2021   \n",
       "1  Mahesh Manjrekar, Abhay Mahajan, Sachin Khedekar   India  March 30, 2021   \n",
       "\n",
       "   release_year rating duration             listed_in  \\\n",
       "0          2014    NaN  113 min         Comedy, Drama   \n",
       "1          2018    13+  110 min  Drama, International   \n",
       "\n",
       "                                         description  \n",
       "0  A small fishing village must procure a local d...  \n",
       "1  A Metro Family decides to fight a Cyber Crimin...  "
      ]
     },
     "execution_count": 52,
     "metadata": {},
     "output_type": "execute_result"
    }
   ],
   "source": [
    "# Observamos uno de los dataframe \n",
    "df_a.head(2)"
   ]
  },
  {
   "attachments": {},
   "cell_type": "markdown",
   "metadata": {},
   "source": [
    "### Transformation data"
   ]
  },
  {
   "attachments": {},
   "cell_type": "markdown",
   "metadata": {},
   "source": [
    "#### Plataformas"
   ]
  },
  {
   "attachments": {},
   "cell_type": "markdown",
   "metadata": {},
   "source": [
    "1. `Generar campo id:` Cada id se compondrá de la primera letra del nombre de la plataforma, seguido del show_id ya presente en los datasets (ejemplo para títulos de Amazon = as123)."
   ]
  },
  {
   "cell_type": "code",
   "execution_count": 53,
   "metadata": {},
   "outputs": [],
   "source": [
    "#Crear la columna con la generación del \"id\"\n",
    "df_a[\"id\"] = \"a\" + df_a[\"show_id\"].astype(str)\n",
    "df_d[\"id\"] = \"d\" + df_d[\"show_id\"].astype(str)\n",
    "df_h[\"id\"] = \"h\" + df_h[\"show_id\"].astype(str)\n",
    "df_n[\"id\"] = \"n\" + df_n[\"show_id\"].astype(str)"
   ]
  },
  {
   "cell_type": "code",
   "execution_count": 54,
   "metadata": {},
   "outputs": [],
   "source": [
    "# Generar una la columna platform\n",
    "df_a[\"platform\"] = \"amazon\" \n",
    "df_d[\"platform\"] = \"disney\" \n",
    "df_h[\"platform\"] = \"hulu\" \n",
    "df_n[\"platform\"] = \"netflix\" "
   ]
  },
  {
   "cell_type": "code",
   "execution_count": 55,
   "metadata": {},
   "outputs": [],
   "source": [
    "# Concatenar todos los dataframe con la función \"concat\"\n",
    "df_plataformas = pd.concat([df_a, df_d, df_h, df_n], ignore_index= True)"
   ]
  },
  {
   "cell_type": "code",
   "execution_count": 56,
   "metadata": {},
   "outputs": [
    {
     "data": {
      "text/html": [
       "<div>\n",
       "<style scoped>\n",
       "    .dataframe tbody tr th:only-of-type {\n",
       "        vertical-align: middle;\n",
       "    }\n",
       "\n",
       "    .dataframe tbody tr th {\n",
       "        vertical-align: top;\n",
       "    }\n",
       "\n",
       "    .dataframe thead th {\n",
       "        text-align: right;\n",
       "    }\n",
       "</style>\n",
       "<table border=\"1\" class=\"dataframe\">\n",
       "  <thead>\n",
       "    <tr style=\"text-align: right;\">\n",
       "      <th></th>\n",
       "      <th>show_id</th>\n",
       "      <th>type</th>\n",
       "      <th>title</th>\n",
       "      <th>director</th>\n",
       "      <th>cast</th>\n",
       "      <th>country</th>\n",
       "      <th>date_added</th>\n",
       "      <th>release_year</th>\n",
       "      <th>rating</th>\n",
       "      <th>duration</th>\n",
       "      <th>listed_in</th>\n",
       "      <th>description</th>\n",
       "      <th>id</th>\n",
       "      <th>platform</th>\n",
       "    </tr>\n",
       "  </thead>\n",
       "  <tbody>\n",
       "    <tr>\n",
       "      <th>0</th>\n",
       "      <td>s1</td>\n",
       "      <td>Movie</td>\n",
       "      <td>The Grand Seduction</td>\n",
       "      <td>Don McKellar</td>\n",
       "      <td>Brendan Gleeson, Taylor Kitsch, Gordon Pinsent</td>\n",
       "      <td>Canada</td>\n",
       "      <td>March 30, 2021</td>\n",
       "      <td>2014</td>\n",
       "      <td>NaN</td>\n",
       "      <td>113 min</td>\n",
       "      <td>Comedy, Drama</td>\n",
       "      <td>A small fishing village must procure a local d...</td>\n",
       "      <td>as1</td>\n",
       "      <td>amazon</td>\n",
       "    </tr>\n",
       "  </tbody>\n",
       "</table>\n",
       "</div>"
      ],
      "text/plain": [
       "  show_id   type                title      director  \\\n",
       "0      s1  Movie  The Grand Seduction  Don McKellar   \n",
       "\n",
       "                                             cast country      date_added  \\\n",
       "0  Brendan Gleeson, Taylor Kitsch, Gordon Pinsent  Canada  March 30, 2021   \n",
       "\n",
       "   release_year rating duration      listed_in  \\\n",
       "0          2014    NaN  113 min  Comedy, Drama   \n",
       "\n",
       "                                         description   id platform  \n",
       "0  A small fishing village must procure a local d...  as1   amazon  "
      ]
     },
     "execution_count": 56,
     "metadata": {},
     "output_type": "execute_result"
    }
   ],
   "source": [
    "df_plataformas.head(1)"
   ]
  },
  {
   "attachments": {},
   "cell_type": "markdown",
   "metadata": {},
   "source": [
    "2.\tLos `valores nulos` del campo rating deberán reemplazarse por el string “G” (corresponde al maturity rating: “general for all audiences”.)"
   ]
  },
  {
   "cell_type": "code",
   "execution_count": 57,
   "metadata": {},
   "outputs": [],
   "source": [
    "# reemplazar los valores nulos en la columna \"rating\" con un nuevo valor \"G\" \n",
    "df_plataformas[\"rating\"] = df_plataformas[\"rating\"].fillna('G')"
   ]
  },
  {
   "cell_type": "code",
   "execution_count": 58,
   "metadata": {},
   "outputs": [
    {
     "data": {
      "text/plain": [
       "array(['G', '13+', 'ALL', '18+', 'R', 'TV-Y', 'TV-Y7', 'NR', '16+',\n",
       "       'TV-PG', '7+', 'TV-14', 'TV-NR', 'TV-G', 'PG-13', 'TV-MA', 'PG',\n",
       "       'NC-17', 'UNRATED', '16', 'AGES_16_', 'AGES_18_', 'ALL_AGES',\n",
       "       'NOT_RATE', 'TV-Y7-FV', 'NOT RATED', '2 Seasons', '93 min',\n",
       "       '4 Seasons', '136 min', '91 min', '85 min', '98 min', '89 min',\n",
       "       '94 min', '86 min', '3 Seasons', '121 min', '88 min', '101 min',\n",
       "       '1 Season', '83 min', '100 min', '95 min', '92 min', '96 min',\n",
       "       '109 min', '99 min', '75 min', '87 min', '67 min', '104 min',\n",
       "       '107 min', '84 min', '103 min', '105 min', '119 min', '114 min',\n",
       "       '82 min', '90 min', '130 min', '110 min', '80 min', '6 Seasons',\n",
       "       '97 min', '111 min', '81 min', '49 min', '45 min', '41 min',\n",
       "       '73 min', '40 min', '36 min', '39 min', '34 min', '47 min',\n",
       "       '65 min', '37 min', '78 min', '102 min', '129 min', '115 min',\n",
       "       '112 min', '61 min', '106 min', '76 min', '77 min', '79 min',\n",
       "       '157 min', '28 min', '64 min', '7 min', '5 min', '6 min',\n",
       "       '127 min', '142 min', '108 min', '57 min', '118 min', '116 min',\n",
       "       '12 Seasons', '71 min', '74 min', '66 min', 'UR'], dtype=object)"
      ]
     },
     "execution_count": 58,
     "metadata": {},
     "output_type": "execute_result"
    }
   ],
   "source": [
    "# Observamos los valores únicos de la columna rating\n",
    "df_plataformas.rating.unique()"
   ]
  },
  {
   "cell_type": "code",
   "execution_count": 60,
   "metadata": {},
   "outputs": [],
   "source": [
    "def mover_valores(df, col_origen, col_destino, sufijos):\n",
    "    # Usamos la condición para identificar los valores que deben moverse\n",
    "    mask = df[col_origen].apply(lambda x: x.endswith(sufijos))\n",
    "    \n",
    "    # Movemos los valores a la columna destino\n",
    "    df.loc[mask, col_destino] = df.loc[mask, col_origen]\n",
    "    \n",
    "    # Eliminamos los valores movidos de la columna origen y lo reemplazamos por \"G\"\n",
    "    df.loc[mask, col_origen] = 'G'\n",
    "    \n",
    "    return df"
   ]
  },
  {
   "cell_type": "code",
   "execution_count": 63,
   "metadata": {},
   "outputs": [],
   "source": [
    "#mover_valores(df_plataformas, 'rating', 'duration', ('Season','Seasons', 'min'))"
   ]
  },
  {
   "cell_type": "code",
   "execution_count": 64,
   "metadata": {},
   "outputs": [
    {
     "data": {
      "text/plain": [
       "array(['G', '13+', 'ALL', '18+', 'R', 'TV-Y', 'TV-Y7', 'NR', '16+',\n",
       "       'TV-PG', '7+', 'TV-14', 'TV-NR', 'TV-G', 'PG-13', 'TV-MA', 'PG',\n",
       "       'NC-17', 'UNRATED', '16', 'AGES_16_', 'AGES_18_', 'ALL_AGES',\n",
       "       'NOT_RATE', 'TV-Y7-FV', 'NOT RATED', 'UR'], dtype=object)"
      ]
     },
     "execution_count": 64,
     "metadata": {},
     "output_type": "execute_result"
    }
   ],
   "source": [
    "# Observamos los valores unicos de la columna rating\n",
    "df_plataformas.rating.unique()"
   ]
  },
  {
   "attachments": {},
   "cell_type": "markdown",
   "metadata": {},
   "source": [
    "3. De haber fechas, deberán tener el `formato AAAA-mm-dd`"
   ]
  },
  {
   "cell_type": "code",
   "execution_count": 65,
   "metadata": {},
   "outputs": [],
   "source": [
    "# convertir la columna \"date_added\" a tipo datetime\n",
    "df_plataformas[\"date_added\"] = pd.to_datetime(df_plataformas[\"date_added\"])"
   ]
  },
  {
   "attachments": {},
   "cell_type": "markdown",
   "metadata": {},
   "source": [
    "4.\tLos `campos de texto` deberán estar en `minúsculas`, sin excepciones"
   ]
  },
  {
   "cell_type": "code",
   "execution_count": 66,
   "metadata": {},
   "outputs": [],
   "source": [
    "df_plataformas = df_plataformas.apply(lambda x: x.str.lower() if x.dtype == \"object\" else x)"
   ]
  },
  {
   "attachments": {},
   "cell_type": "markdown",
   "metadata": {},
   "source": [
    "5.\tEl campo `duration` debe `convertirse en dos campos: duration_int y duration_type`. El primero será un integer y el segundo un string indicando la unidad de medición de duración: min (minutos) o season (temporadas)"
   ]
  },
  {
   "cell_type": "code",
   "execution_count": 67,
   "metadata": {},
   "outputs": [
    {
     "data": {
      "text/html": [
       "<div>\n",
       "<style scoped>\n",
       "    .dataframe tbody tr th:only-of-type {\n",
       "        vertical-align: middle;\n",
       "    }\n",
       "\n",
       "    .dataframe tbody tr th {\n",
       "        vertical-align: top;\n",
       "    }\n",
       "\n",
       "    .dataframe thead th {\n",
       "        text-align: right;\n",
       "    }\n",
       "</style>\n",
       "<table border=\"1\" class=\"dataframe\">\n",
       "  <thead>\n",
       "    <tr style=\"text-align: right;\">\n",
       "      <th></th>\n",
       "      <th>show_id</th>\n",
       "      <th>type</th>\n",
       "      <th>title</th>\n",
       "      <th>director</th>\n",
       "      <th>cast</th>\n",
       "      <th>country</th>\n",
       "      <th>date_added</th>\n",
       "      <th>release_year</th>\n",
       "      <th>rating</th>\n",
       "      <th>duration</th>\n",
       "      <th>listed_in</th>\n",
       "      <th>description</th>\n",
       "      <th>id</th>\n",
       "      <th>platform</th>\n",
       "    </tr>\n",
       "  </thead>\n",
       "  <tbody>\n",
       "    <tr>\n",
       "      <th>0</th>\n",
       "      <td>s1</td>\n",
       "      <td>movie</td>\n",
       "      <td>the grand seduction</td>\n",
       "      <td>don mckellar</td>\n",
       "      <td>brendan gleeson, taylor kitsch, gordon pinsent</td>\n",
       "      <td>canada</td>\n",
       "      <td>2021-03-30</td>\n",
       "      <td>2014</td>\n",
       "      <td>g</td>\n",
       "      <td>113 min</td>\n",
       "      <td>comedy, drama</td>\n",
       "      <td>a small fishing village must procure a local d...</td>\n",
       "      <td>as1</td>\n",
       "      <td>amazon</td>\n",
       "    </tr>\n",
       "    <tr>\n",
       "      <th>1</th>\n",
       "      <td>s2</td>\n",
       "      <td>movie</td>\n",
       "      <td>take care good night</td>\n",
       "      <td>girish joshi</td>\n",
       "      <td>mahesh manjrekar, abhay mahajan, sachin khedekar</td>\n",
       "      <td>india</td>\n",
       "      <td>2021-03-30</td>\n",
       "      <td>2018</td>\n",
       "      <td>13+</td>\n",
       "      <td>110 min</td>\n",
       "      <td>drama, international</td>\n",
       "      <td>a metro family decides to fight a cyber crimin...</td>\n",
       "      <td>as2</td>\n",
       "      <td>amazon</td>\n",
       "    </tr>\n",
       "  </tbody>\n",
       "</table>\n",
       "</div>"
      ],
      "text/plain": [
       "  show_id   type                 title      director  \\\n",
       "0      s1  movie   the grand seduction  don mckellar   \n",
       "1      s2  movie  take care good night  girish joshi   \n",
       "\n",
       "                                               cast country date_added  \\\n",
       "0    brendan gleeson, taylor kitsch, gordon pinsent  canada 2021-03-30   \n",
       "1  mahesh manjrekar, abhay mahajan, sachin khedekar   india 2021-03-30   \n",
       "\n",
       "   release_year rating duration             listed_in  \\\n",
       "0          2014      g  113 min         comedy, drama   \n",
       "1          2018    13+  110 min  drama, international   \n",
       "\n",
       "                                         description   id platform  \n",
       "0  a small fishing village must procure a local d...  as1   amazon  \n",
       "1  a metro family decides to fight a cyber crimin...  as2   amazon  "
      ]
     },
     "execution_count": 67,
     "metadata": {},
     "output_type": "execute_result"
    }
   ],
   "source": [
    "df_plataformas.head(2)"
   ]
  },
  {
   "cell_type": "code",
   "execution_count": 68,
   "metadata": {},
   "outputs": [],
   "source": [
    "# Con el método \"str.split()\" podemos separar la columna \"duration\" en dos columnas \"duration_int\" y \"duration_type\"\n",
    "df_plataformas[[\"duration_int\",\"duration_type\"]] = df_plataformas[\"duration\"].str.split(\" \", expand = True)\n",
    "\n",
    "# Cambiamos el tipo de dato de 'duration_int' a int\n",
    "df_plataformas[\"duration_int\"] = df_plataformas[\"duration_int\"].astype(\"Int64\")"
   ]
  },
  {
   "cell_type": "code",
   "execution_count": 69,
   "metadata": {},
   "outputs": [
    {
     "data": {
      "text/plain": [
       "array(['min', 'season', 'seasons', nan], dtype=object)"
      ]
     },
     "execution_count": 69,
     "metadata": {},
     "output_type": "execute_result"
    }
   ],
   "source": [
    "df_plataformas[\"duration_type\"].unique()"
   ]
  },
  {
   "cell_type": "code",
   "execution_count": 70,
   "metadata": {},
   "outputs": [],
   "source": [
    "df_plataformas['duration_type'] = df_plataformas['duration_type'].replace({'seasons': 'season'})"
   ]
  },
  {
   "cell_type": "code",
   "execution_count": 71,
   "metadata": {},
   "outputs": [
    {
     "data": {
      "text/plain": [
       "0"
      ]
     },
     "execution_count": 71,
     "metadata": {},
     "output_type": "execute_result"
    }
   ],
   "source": [
    "# Verificar si hay valores duplicados\n",
    "df_plataformas.duplicated().sum()"
   ]
  },
  {
   "cell_type": "code",
   "execution_count": 72,
   "metadata": {},
   "outputs": [
    {
     "data": {
      "text/plain": [
       "show_id              0\n",
       "type                 0\n",
       "title                0\n",
       "director          8259\n",
       "cast              5321\n",
       "country          11499\n",
       "date_added        9554\n",
       "release_year         0\n",
       "rating               0\n",
       "duration           187\n",
       "listed_in            0\n",
       "description          4\n",
       "id                   0\n",
       "platform             0\n",
       "duration_int       187\n",
       "duration_type      187\n",
       "dtype: int64"
      ]
     },
     "execution_count": 72,
     "metadata": {},
     "output_type": "execute_result"
    }
   ],
   "source": [
    "df_plataformas.isnull().sum()"
   ]
  },
  {
   "cell_type": "code",
   "execution_count": 73,
   "metadata": {},
   "outputs": [
    {
     "data": {
      "text/plain": [
       "show_id                  object\n",
       "type                     object\n",
       "title                    object\n",
       "director                 object\n",
       "cast                     object\n",
       "country                  object\n",
       "date_added       datetime64[ns]\n",
       "release_year              int64\n",
       "rating                   object\n",
       "duration                 object\n",
       "listed_in                object\n",
       "description              object\n",
       "id                       object\n",
       "platform                 object\n",
       "duration_int              Int64\n",
       "duration_type            object\n",
       "dtype: object"
      ]
     },
     "execution_count": 73,
     "metadata": {},
     "output_type": "execute_result"
    }
   ],
   "source": [
    "df_plataformas.dtypes"
   ]
  },
  {
   "cell_type": "code",
   "execution_count": 74,
   "metadata": {},
   "outputs": [
    {
     "data": {
      "text/plain": [
       "(22998, 16)"
      ]
     },
     "execution_count": 74,
     "metadata": {},
     "output_type": "execute_result"
    }
   ],
   "source": [
    "df_plataformas.shape"
   ]
  },
  {
   "attachments": {},
   "cell_type": "markdown",
   "metadata": {},
   "source": [
    "#### Rating"
   ]
  },
  {
   "cell_type": "code",
   "execution_count": 26,
   "metadata": {},
   "outputs": [
    {
     "name": "stdout",
     "output_type": "stream",
     "text": [
      "DataFrame 1 tiene 4 columnas: movieId, userId, timestamp, rating\n",
      "Los 4 DataFrames tienen las mismas columnas y cantidad\n"
     ]
    }
   ],
   "source": [
    "# crear los DataFrames (df_r1, df_r2, df_r3, df_r4,df_r5, df_r6, df_r7, df_r8)\n",
    "df_r1 = pd.read_csv(\"raw/ratings/1.csv\")\n",
    "df_r2 = pd.read_csv(\"raw/ratings/2.csv\")\n",
    "df_r3 = pd.read_csv(\"raw/ratings/3.csv\")\n",
    "df_r4 = pd.read_csv(\"raw/ratings/4.csv\")\n",
    "df_r5 = pd.read_csv(\"raw/ratings/5.csv\")\n",
    "df_r6 = pd.read_csv(\"raw/ratings/6.csv\")\n",
    "df_r7 = pd.read_csv(\"raw/ratings/7.csv\")\n",
    "df_r8 = pd.read_csv(\"raw/ratings/8.csv\")\n",
    "\n",
    "if check_dataframe(df_r1, df_r2, df_r3, df_r4,df_r5, df_r6, df_r7, df_r8):\n",
    "    print(\"Los 4 DataFrames tienen las mismas columnas y cantidad\")\n",
    "else:\n",
    "    print(\"Los 4 DataFrames no tienen las mismas columnas y/o cantidad\")"
   ]
  },
  {
   "cell_type": "code",
   "execution_count": 27,
   "metadata": {},
   "outputs": [],
   "source": [
    "# Concatenando todos los dataframe con la función \"concat\"\n",
    "df_rating = pd.concat([df_r1, df_r2, df_r3,df_r4, df_r5, df_r6, df_r7, df_r8], ignore_index= True)"
   ]
  },
  {
   "cell_type": "code",
   "execution_count": 28,
   "metadata": {},
   "outputs": [
    {
     "data": {
      "text/plain": [
       "(11024289, 4)"
      ]
     },
     "execution_count": 28,
     "metadata": {},
     "output_type": "execute_result"
    }
   ],
   "source": [
    "df_rating.shape"
   ]
  },
  {
   "cell_type": "code",
   "execution_count": 29,
   "metadata": {},
   "outputs": [
    {
     "data": {
      "text/html": [
       "<div>\n",
       "<style scoped>\n",
       "    .dataframe tbody tr th:only-of-type {\n",
       "        vertical-align: middle;\n",
       "    }\n",
       "\n",
       "    .dataframe tbody tr th {\n",
       "        vertical-align: top;\n",
       "    }\n",
       "\n",
       "    .dataframe thead th {\n",
       "        text-align: right;\n",
       "    }\n",
       "</style>\n",
       "<table border=\"1\" class=\"dataframe\">\n",
       "  <thead>\n",
       "    <tr style=\"text-align: right;\">\n",
       "      <th></th>\n",
       "      <th>userId</th>\n",
       "      <th>rating</th>\n",
       "      <th>timestamp</th>\n",
       "      <th>movieId</th>\n",
       "    </tr>\n",
       "  </thead>\n",
       "  <tbody>\n",
       "    <tr>\n",
       "      <th>0</th>\n",
       "      <td>1</td>\n",
       "      <td>1.0</td>\n",
       "      <td>1425941529</td>\n",
       "      <td>as680</td>\n",
       "    </tr>\n",
       "    <tr>\n",
       "      <th>1</th>\n",
       "      <td>1</td>\n",
       "      <td>4.5</td>\n",
       "      <td>1425942435</td>\n",
       "      <td>ns2186</td>\n",
       "    </tr>\n",
       "  </tbody>\n",
       "</table>\n",
       "</div>"
      ],
      "text/plain": [
       "   userId  rating   timestamp movieId\n",
       "0       1     1.0  1425941529   as680\n",
       "1       1     4.5  1425942435  ns2186"
      ]
     },
     "execution_count": 29,
     "metadata": {},
     "output_type": "execute_result"
    }
   ],
   "source": [
    "df_rating.head(2)"
   ]
  },
  {
   "attachments": {},
   "cell_type": "markdown",
   "metadata": {},
   "source": [
    "De haber fechas, deberán tener el `formato AAAA-mm-dd`"
   ]
  },
  {
   "cell_type": "code",
   "execution_count": 30,
   "metadata": {},
   "outputs": [],
   "source": [
    "# Convertir la columna 'fechas' al formato AAAA-mm-dd\n",
    "df_rating[\"timestamp\"] = pd.to_datetime(df_rating[\"timestamp\"], unit=\"s\").dt.strftime('%Y-%m-%d')\n",
    "\n",
    "# convertir la columna \"date_added\" a tipo datetime\n",
    "df_rating[\"timestamp\"] = pd.to_datetime(df_rating[\"timestamp\"])"
   ]
  },
  {
   "cell_type": "code",
   "execution_count": 31,
   "metadata": {},
   "outputs": [],
   "source": [
    "# Renombrar los nombres de las columnas \n",
    "df_rating = df_rating.rename(columns={\"rating\": \"score\", \"movieId\": \"id\"})"
   ]
  },
  {
   "cell_type": "code",
   "execution_count": 32,
   "metadata": {},
   "outputs": [
    {
     "data": {
      "text/html": [
       "<div>\n",
       "<style scoped>\n",
       "    .dataframe tbody tr th:only-of-type {\n",
       "        vertical-align: middle;\n",
       "    }\n",
       "\n",
       "    .dataframe tbody tr th {\n",
       "        vertical-align: top;\n",
       "    }\n",
       "\n",
       "    .dataframe thead th {\n",
       "        text-align: right;\n",
       "    }\n",
       "</style>\n",
       "<table border=\"1\" class=\"dataframe\">\n",
       "  <thead>\n",
       "    <tr style=\"text-align: right;\">\n",
       "      <th></th>\n",
       "      <th>userId</th>\n",
       "      <th>score</th>\n",
       "      <th>timestamp</th>\n",
       "      <th>id</th>\n",
       "    </tr>\n",
       "  </thead>\n",
       "  <tbody>\n",
       "    <tr>\n",
       "      <th>0</th>\n",
       "      <td>1</td>\n",
       "      <td>1.0</td>\n",
       "      <td>2015-03-09</td>\n",
       "      <td>as680</td>\n",
       "    </tr>\n",
       "    <tr>\n",
       "      <th>1</th>\n",
       "      <td>1</td>\n",
       "      <td>4.5</td>\n",
       "      <td>2015-03-09</td>\n",
       "      <td>ns2186</td>\n",
       "    </tr>\n",
       "  </tbody>\n",
       "</table>\n",
       "</div>"
      ],
      "text/plain": [
       "   userId  score  timestamp      id\n",
       "0       1    1.0 2015-03-09   as680\n",
       "1       1    4.5 2015-03-09  ns2186"
      ]
     },
     "execution_count": 32,
     "metadata": {},
     "output_type": "execute_result"
    }
   ],
   "source": [
    "df_rating.head(2)"
   ]
  },
  {
   "cell_type": "code",
   "execution_count": 33,
   "metadata": {},
   "outputs": [
    {
     "data": {
      "text/plain": [
       "userId                int64\n",
       "score               float64\n",
       "timestamp    datetime64[ns]\n",
       "id                   object\n",
       "dtype: object"
      ]
     },
     "execution_count": 33,
     "metadata": {},
     "output_type": "execute_result"
    }
   ],
   "source": [
    "df_rating.dtypes"
   ]
  },
  {
   "cell_type": "code",
   "execution_count": 34,
   "metadata": {},
   "outputs": [
    {
     "data": {
      "text/plain": [
       "10466"
      ]
     },
     "execution_count": 34,
     "metadata": {},
     "output_type": "execute_result"
    }
   ],
   "source": [
    "# Verificar si hay valores duplicados\n",
    "df_rating.duplicated().sum()"
   ]
  },
  {
   "cell_type": "code",
   "execution_count": 35,
   "metadata": {},
   "outputs": [],
   "source": [
    "df_rating = df_rating.drop_duplicates()"
   ]
  },
  {
   "cell_type": "code",
   "execution_count": 36,
   "metadata": {},
   "outputs": [
    {
     "data": {
      "text/plain": [
       "userId       0\n",
       "score        0\n",
       "timestamp    0\n",
       "id           0\n",
       "dtype: int64"
      ]
     },
     "execution_count": 36,
     "metadata": {},
     "output_type": "execute_result"
    }
   ],
   "source": [
    "df_rating.isnull().sum()"
   ]
  },
  {
   "cell_type": "code",
   "execution_count": 37,
   "metadata": {},
   "outputs": [
    {
     "data": {
      "text/plain": [
       "(11013823, 4)"
      ]
     },
     "execution_count": 37,
     "metadata": {},
     "output_type": "execute_result"
    }
   ],
   "source": [
    "df_rating.shape"
   ]
  },
  {
   "attachments": {},
   "cell_type": "markdown",
   "metadata": {},
   "source": [
    "### Promedio de score"
   ]
  },
  {
   "cell_type": "code",
   "execution_count": 38,
   "metadata": {},
   "outputs": [],
   "source": [
    "# Obtenemos el promedio de rating utilizando el método groupby\n",
    "average_score = df_rating.groupby(\"id\")[\"score\"].mean().round(2)\n",
    "\n",
    "# Convertirmos a dataframe\n",
    "average_score = pd.DataFrame({\"id\":average_score.index, \"average_score\": average_score.values})"
   ]
  },
  {
   "cell_type": "code",
   "execution_count": 39,
   "metadata": {},
   "outputs": [
    {
     "data": {
      "text/html": [
       "<div>\n",
       "<style scoped>\n",
       "    .dataframe tbody tr th:only-of-type {\n",
       "        vertical-align: middle;\n",
       "    }\n",
       "\n",
       "    .dataframe tbody tr th {\n",
       "        vertical-align: top;\n",
       "    }\n",
       "\n",
       "    .dataframe thead th {\n",
       "        text-align: right;\n",
       "    }\n",
       "</style>\n",
       "<table border=\"1\" class=\"dataframe\">\n",
       "  <thead>\n",
       "    <tr style=\"text-align: right;\">\n",
       "      <th></th>\n",
       "      <th>id</th>\n",
       "      <th>average_score</th>\n",
       "    </tr>\n",
       "  </thead>\n",
       "  <tbody>\n",
       "    <tr>\n",
       "      <th>0</th>\n",
       "      <td>as1</td>\n",
       "      <td>3.47</td>\n",
       "    </tr>\n",
       "    <tr>\n",
       "      <th>1</th>\n",
       "      <td>as10</td>\n",
       "      <td>3.44</td>\n",
       "    </tr>\n",
       "  </tbody>\n",
       "</table>\n",
       "</div>"
      ],
      "text/plain": [
       "     id  average_score\n",
       "0   as1           3.47\n",
       "1  as10           3.44"
      ]
     },
     "execution_count": 39,
     "metadata": {},
     "output_type": "execute_result"
    }
   ],
   "source": [
    "average_score.head(2)"
   ]
  },
  {
   "cell_type": "code",
   "execution_count": 40,
   "metadata": {},
   "outputs": [
    {
     "data": {
      "text/plain": [
       "(22998, 2)"
      ]
     },
     "execution_count": 40,
     "metadata": {},
     "output_type": "execute_result"
    }
   ],
   "source": [
    "average_score.shape"
   ]
  },
  {
   "attachments": {},
   "cell_type": "markdown",
   "metadata": {},
   "source": [
    "### Datasets para la API y modelo ML"
   ]
  },
  {
   "cell_type": "code",
   "execution_count": 75,
   "metadata": {},
   "outputs": [
    {
     "data": {
      "text/html": [
       "<div>\n",
       "<style scoped>\n",
       "    .dataframe tbody tr th:only-of-type {\n",
       "        vertical-align: middle;\n",
       "    }\n",
       "\n",
       "    .dataframe tbody tr th {\n",
       "        vertical-align: top;\n",
       "    }\n",
       "\n",
       "    .dataframe thead th {\n",
       "        text-align: right;\n",
       "    }\n",
       "</style>\n",
       "<table border=\"1\" class=\"dataframe\">\n",
       "  <thead>\n",
       "    <tr style=\"text-align: right;\">\n",
       "      <th></th>\n",
       "      <th>show_id</th>\n",
       "      <th>type</th>\n",
       "      <th>title</th>\n",
       "      <th>director</th>\n",
       "      <th>cast</th>\n",
       "      <th>country</th>\n",
       "      <th>date_added</th>\n",
       "      <th>release_year</th>\n",
       "      <th>rating</th>\n",
       "      <th>duration</th>\n",
       "      <th>listed_in</th>\n",
       "      <th>description</th>\n",
       "      <th>id</th>\n",
       "      <th>platform</th>\n",
       "      <th>duration_int</th>\n",
       "      <th>duration_type</th>\n",
       "      <th>average_score</th>\n",
       "    </tr>\n",
       "  </thead>\n",
       "  <tbody>\n",
       "    <tr>\n",
       "      <th>0</th>\n",
       "      <td>s1</td>\n",
       "      <td>movie</td>\n",
       "      <td>the grand seduction</td>\n",
       "      <td>don mckellar</td>\n",
       "      <td>brendan gleeson, taylor kitsch, gordon pinsent</td>\n",
       "      <td>canada</td>\n",
       "      <td>2021-03-30</td>\n",
       "      <td>2014</td>\n",
       "      <td>g</td>\n",
       "      <td>113 min</td>\n",
       "      <td>comedy, drama</td>\n",
       "      <td>a small fishing village must procure a local d...</td>\n",
       "      <td>as1</td>\n",
       "      <td>amazon</td>\n",
       "      <td>113</td>\n",
       "      <td>min</td>\n",
       "      <td>3.47</td>\n",
       "    </tr>\n",
       "  </tbody>\n",
       "</table>\n",
       "</div>"
      ],
      "text/plain": [
       "  show_id   type                title      director  \\\n",
       "0      s1  movie  the grand seduction  don mckellar   \n",
       "\n",
       "                                             cast country date_added  \\\n",
       "0  brendan gleeson, taylor kitsch, gordon pinsent  canada 2021-03-30   \n",
       "\n",
       "   release_year rating duration      listed_in  \\\n",
       "0          2014      g  113 min  comedy, drama   \n",
       "\n",
       "                                         description   id platform  \\\n",
       "0  a small fishing village must procure a local d...  as1   amazon   \n",
       "\n",
       "   duration_int duration_type  average_score  \n",
       "0           113           min           3.47  "
      ]
     },
     "execution_count": 75,
     "metadata": {},
     "output_type": "execute_result"
    }
   ],
   "source": [
    "# Unimos los dataframes utilizando el método merge. El mismo que se empleará para la API.\n",
    "df_platforms = pd.merge(df_plataformas,average_score, on = \"id\")\n",
    "df_platforms.head(1)"
   ]
  },
  {
   "cell_type": "code",
   "execution_count": 77,
   "metadata": {},
   "outputs": [],
   "source": [
    "# Eliminar columnas que no se necesita para la API\n",
    "df_platforms = df_platforms.drop(['show_id','date_added','rating','duration'], axis=1)"
   ]
  },
  {
   "cell_type": "code",
   "execution_count": 78,
   "metadata": {},
   "outputs": [],
   "source": [
    "# Exportamos el dataframe df_platforms en formato csv\n",
    "df_platforms.to_csv('df_platforms.csv', index=False)"
   ]
  },
  {
   "cell_type": "code",
   "execution_count": 89,
   "metadata": {},
   "outputs": [],
   "source": [
    "# Columnas que deseas mantener de df_plataformas\n",
    "col_plataformas = [\"id\", \"title\", \"type\", \"platform\"]\n",
    "\n",
    "# Unimos los dataframes utilizando el método merge. El mismo que se empleará para el modelo ML.\n",
    "df_score = pd.merge(df_rating, df_plataformas[col_plataformas], on=\"id\")"
   ]
  },
  {
   "cell_type": "code",
   "execution_count": 91,
   "metadata": {},
   "outputs": [],
   "source": [
    "# Exportamos el dataframe df_plataformas en formato csv\n",
    "df_score.to_csv('df_score.csv', index=False)"
   ]
  }
 ],
 "metadata": {
  "kernelspec": {
   "display_name": "Python 3",
   "language": "python",
   "name": "python3"
  },
  "language_info": {
   "codemirror_mode": {
    "name": "ipython",
    "version": 3
   },
   "file_extension": ".py",
   "mimetype": "text/x-python",
   "name": "python",
   "nbconvert_exporter": "python",
   "pygments_lexer": "ipython3",
   "version": "3.10.4"
  },
  "orig_nbformat": 4
 },
 "nbformat": 4,
 "nbformat_minor": 2
}
